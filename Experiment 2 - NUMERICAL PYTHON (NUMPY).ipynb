{
 "cells": [
  {
   "cell_type": "code",
   "execution_count": 80,
   "id": "27f188f6-7850-4bba-896a-0ac0fc4cdc14",
   "metadata": {},
   "outputs": [],
   "source": [
    "import numpy as np"
   ]
  },
  {
   "cell_type": "markdown",
   "id": "129a7e33-407f-43d0-b9fb-3c47c844fd2c",
   "metadata": {},
   "source": [
    "## NORMALIZATION PROBLEM:"
   ]
  },
  {
   "cell_type": "code",
   "execution_count": 84,
   "id": "3a70200f-32a3-4ce1-89c7-0127d37c8264",
   "metadata": {},
   "outputs": [
    {
     "name": "stdout",
     "output_type": "stream",
     "text": [
      "[[95 42 43 81 64]\n",
      " [96 20 24  4 12]\n",
      " [44 21 58 37  6]\n",
      " [76 16  3 57 38]\n",
      " [12 67 47 25 51]]\n"
     ]
    },
    {
     "data": {
      "text/plain": [
       "array([[ 1.96906702,  0.01621238,  0.05305869,  1.45321862,  0.82683128],\n",
       "       [ 2.00591333, -0.79440653, -0.64702127, -1.38394755, -1.08917704],\n",
       "       [ 0.08990501, -0.75756021,  0.6057534 , -0.16801919, -1.31025492],\n",
       "       [ 1.26898705, -0.94179178, -1.42079387,  0.56890709, -0.13117288],\n",
       "       [-1.08917704,  0.93737023,  0.20044395, -0.61017496,  0.3478292 ]])"
      ]
     },
     "execution_count": 84,
     "metadata": {},
     "output_type": "execute_result"
    }
   ],
   "source": [
    "#Create a %x5 matrix with random numbers from 1 to 99\n",
    "X = np.random.randint(low=0, high=100, size=(5, 5))\n",
    "print(X)\n",
    "\n",
    "# Use Normalization Formula\n",
    "X = (X-X.mean())/X.std()\n",
    "\n",
    "# Save it as X_normalized.npy\n",
    "np.save('X_normalized.npy', X)\n",
    "np.load('X_normalized.npy')"
   ]
  },
  {
   "cell_type": "markdown",
   "id": "2a715e13-9be8-4b90-b7c2-5dada1d72af6",
   "metadata": {},
   "source": [
    "## DIVISIBLE BY 3 PROBLEM:"
   ]
  },
  {
   "cell_type": "code",
   "execution_count": 86,
   "id": "ca36f714-2622-4873-9fad-03e356ed5c98",
   "metadata": {},
   "outputs": [
    {
     "data": {
      "text/plain": [
       "array([9.000e+00, 3.600e+01, 8.100e+01, 1.440e+02, 2.250e+02, 3.240e+02,\n",
       "       4.410e+02, 5.760e+02, 7.290e+02, 9.000e+02, 1.089e+03, 1.296e+03,\n",
       "       1.521e+03, 1.764e+03, 2.025e+03, 2.304e+03, 2.601e+03, 2.916e+03,\n",
       "       3.249e+03, 3.600e+03, 3.969e+03, 4.356e+03, 4.761e+03, 5.184e+03,\n",
       "       5.625e+03, 6.084e+03, 6.561e+03, 7.056e+03, 7.569e+03, 8.100e+03,\n",
       "       8.649e+03, 9.216e+03, 9.801e+03])"
      ]
     },
     "execution_count": 86,
     "metadata": {},
     "output_type": "execute_result"
    }
   ],
   "source": [
    "# Create a 10x10 array with squares of the first 100 int\n",
    "A = np.linspace(1,100,100).reshape(10,10)**2\n",
    "# Create an empty array to be filled with digits\n",
    "B = np.array([])\n",
    "\n",
    "# Iterate every element \n",
    "for row in A:\n",
    "    for element in row:\n",
    "        if element%3 == 0:\n",
    "            B = np.append(B, element)\n",
    "        \n",
    "np.save('div_by_3.npy', B)\n",
    "np.load('div_by_3.npy')"
   ]
  },
  {
   "cell_type": "code",
   "execution_count": null,
   "id": "6a05276a-a759-4667-b57a-81bd84e4a057",
   "metadata": {},
   "outputs": [],
   "source": []
  },
  {
   "cell_type": "code",
   "execution_count": null,
   "id": "31fc6424-7176-40a0-b126-651f3552763f",
   "metadata": {},
   "outputs": [],
   "source": []
  }
 ],
 "metadata": {
  "kernelspec": {
   "display_name": "Python 3 (ipykernel)",
   "language": "python",
   "name": "python3"
  },
  "language_info": {
   "codemirror_mode": {
    "name": "ipython",
    "version": 3
   },
   "file_extension": ".py",
   "mimetype": "text/x-python",
   "name": "python",
   "nbconvert_exporter": "python",
   "pygments_lexer": "ipython3",
   "version": "3.12.4"
  }
 },
 "nbformat": 4,
 "nbformat_minor": 5
}
